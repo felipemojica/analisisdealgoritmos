{
 "cells": [
  {
   "cell_type": "markdown",
   "metadata": {},
   "source": [
    "<h1>Análisando algoritmos de ordenamiento</h1>"
   ]
  },
  {
   "cell_type": "code",
   "execution_count": 3,
   "metadata": {
    "collapsed": true
   },
   "outputs": [],
   "source": [
    "import math\n",
    "import numpy as np\n",
    "import pylab as pl\n",
    "%matplotlib inline"
   ]
  },
  {
   "cell_type": "markdown",
   "metadata": {},
   "source": [
    "<h2>Problema de ordenamiento</h2>\n",
    "\n",
    "Input:  $A[1..n] = <a_1,a_2\\ldots, a_n>$\n",
    "\n",
    "Output: $A'[1..n] = <a'_1,a'_2\\ldots, a'_n> : a'_1\\leq a'_2 \\leq \\ldots \\leq  a'_n$"
   ]
  },
  {
   "cell_type": "markdown",
   "metadata": {},
   "source": [
    "<h3> Ordenamiento por inserción </h3>"
   ]
  },
  {
   "cell_type": "code",
   "execution_count": 4,
   "metadata": {
    "collapsed": true
   },
   "outputs": [],
   "source": [
    "def insertion_sort(A):\n",
    "    j = 1\n",
    "    while j < len(A):\n",
    "        key = A[j]\n",
    "        i = j - 1\n",
    "        while (i >= 0) and (A[i] > key):\n",
    "            A[i + 1] = A[i]\n",
    "            i = i -1\n",
    "        A[i + 1] = key\n",
    "        j = j + 1"
   ]
  },
  {
   "cell_type": "code",
   "execution_count": 5,
   "metadata": {
    "collapsed": false
   },
   "outputs": [
    {
     "name": "stdout",
     "output_type": "stream",
     "text": [
      "[8 6 1 3 7 2 9 0 5 4]\n",
      "[0 1 2 3 4 5 6 7 8 9]\n"
     ]
    }
   ],
   "source": [
    "B = np.random.permutation(range(0,10))\n",
    "print B\n",
    "insertion_sort(B)\n",
    "print B"
   ]
  },
  {
   "cell_type": "markdown",
   "metadata": {},
   "source": [
    "<h4>Correctitud</h4>\n",
    "\n",
    "<b>Invariante:</b> Al comienzo de cada iteración del ciclo externo el subarreglo $A[0..j-1]$ consiste de los elementos originalmente en $A[0..j-1]$ pero ordenados."
   ]
  },
  {
   "cell_type": "code",
   "execution_count": 6,
   "metadata": {
    "collapsed": true
   },
   "outputs": [],
   "source": [
    "def invariant(A, original_A):\n",
    "    l1 = list(A)\n",
    "    l2 = list(original_A)\n",
    "    l2.sort()\n",
    "    return l1 == l2"
   ]
  },
  {
   "cell_type": "code",
   "execution_count": 7,
   "metadata": {
    "collapsed": false
   },
   "outputs": [
    {
     "name": "stdout",
     "output_type": "stream",
     "text": [
      "True\n",
      "False\n"
     ]
    }
   ],
   "source": [
    "print invariant([1, 2, 3, 4], [4, 3, 2, 1])\n",
    "print invariant([1, 2, 3, 4], [5, 3, 2, 1])"
   ]
  },
  {
   "cell_type": "markdown",
   "metadata": {},
   "source": [
    "Algoritmo de ordenamiento por inserción incluyendo evaluación de la invariante (inicialización, mantenimiento, terminación)"
   ]
  },
  {
   "cell_type": "code",
   "execution_count": 8,
   "metadata": {
    "collapsed": true
   },
   "outputs": [],
   "source": [
    "def right_insertion_sort(A):\n",
    "    original_A = list(A)\n",
    "    j = 1\n",
    "    assert invariant(A[0:j], original_A[0:j])\n",
    "    while j < len(A):\n",
    "        assert invariant(A[0:j], original_A[0:j])\n",
    "        key = A[j]\n",
    "        i = j - 1\n",
    "        while (i >= 0) and (A[i] > key):\n",
    "            A[i + 1] = A[i]\n",
    "            i = i -1        \n",
    "        A[i + 1] = key\n",
    "        j = j + 1\n",
    "    assert invariant(A[0:j], original_A[0:j])"
   ]
  },
  {
   "cell_type": "code",
   "execution_count": 9,
   "metadata": {
    "collapsed": false
   },
   "outputs": [
    {
     "name": "stdout",
     "output_type": "stream",
     "text": [
      "[1, 2, 3, 4, 5, 6, 7, 8, 9]\n"
     ]
    }
   ],
   "source": [
    "B = [5, 4, 6, 3, 7, 2, 8, 1, 9]\n",
    "right_insertion_sort(B)\n",
    "print B"
   ]
  },
  {
   "cell_type": "markdown",
   "metadata": {},
   "source": [
    "La siguiente función incluye un error, por lo tanto la aserción para comprobar el invariante de ciclo falla. Esto genera una excepción que es capturada para imprimir un mensaje y el estado de las variables."
   ]
  },
  {
   "cell_type": "code",
   "execution_count": 10,
   "metadata": {
    "collapsed": true
   },
   "outputs": [],
   "source": [
    "def wrong_insertion_sort(A):\n",
    "    original_A = list(A)\n",
    "    j = 1\n",
    "    try:\n",
    "        assert invariant(A[0:j], original_A[0:j])\n",
    "        while j < len(A):\n",
    "            assert invariant(A[0:j], original_A[0:j])\n",
    "            key = A[j]\n",
    "            i = j - 1\n",
    "            while (i >= 0) and (A[i] < key):\n",
    "                A[i + 1] = A[i]\n",
    "                i = i - 1        \n",
    "            A[i + 1] = key\n",
    "            j = j + 1\n",
    "        assert invariant(A[0:j], original_A[0:j])\n",
    "    except  AssertionError:\n",
    "        print \"Error en el invariante de ciclo!\"\n",
    "        print \"j=\", j\n",
    "        print \"i=\", i\n",
    "        print \"A=\", A\n",
    "        print \"Original A=\", original_A"
   ]
  },
  {
   "cell_type": "code",
   "execution_count": 11,
   "metadata": {
    "collapsed": false
   },
   "outputs": [
    {
     "name": "stdout",
     "output_type": "stream",
     "text": [
      "Error en el invariante de ciclo!\n",
      "j= 2\n",
      "i= 0\n",
      "A= [5, 4, 6, 3, 7, 2, 8, 1, 9]\n",
      "Original A= [5, 4, 6, 3, 7, 2, 8, 1, 9]\n"
     ]
    }
   ],
   "source": [
    "B = [5, 4, 6, 3, 7, 2, 8, 1, 9]\n",
    "wrong_insertion_sort(B)"
   ]
  },
  {
   "cell_type": "markdown",
   "metadata": {},
   "source": [
    "<h4> Análisis del tiempo de ejecución</h4>"
   ]
  },
  {
   "cell_type": "code",
   "execution_count": 12,
   "metadata": {
    "collapsed": true
   },
   "outputs": [],
   "source": [
    "class Counter:\n",
    "    '''\n",
    "    Class Counter\n",
    "    Implements a step counter, which is used to compute the number of basic operations performed in\n",
    "    a particular call to a function.\n",
    "    '''\n",
    "    def __init__(self):\n",
    "        self.steps = 0\n",
    "\n",
    "    def reset(self):\n",
    "        self.steps = 0\n",
    "\n",
    "    def count(self):\n",
    "        self.steps += 1\n",
    "\n",
    "    def print_steps(self):\n",
    "        print \"Number of steps =\", self.steps\n",
    "        \n",
    "def acct_insertion_sort(A, acct):\n",
    "    j = 1; acct.count()\n",
    "    acct.count()\n",
    "    while j < len(A):\n",
    "        acct.count()\n",
    "        key = A[j]; acct.count()\n",
    "        i = j - 1; acct.count()\n",
    "        acct.count()\n",
    "        while (i >= 0) and (A[i] > key):\n",
    "            acct.count()\n",
    "            A[i + 1] = A[i]; acct.count()\n",
    "            i = i -1; acct.count()\n",
    "        A[i + 1] = key; acct.count()\n",
    "        j = j + 1; acct.count()\n",
    "        \n",
    "def merge_sort_acct(l, acct):\n",
    "\n",
    "    tic = time.clock()#get start time\n",
    "    \n",
    "    if len(l)>1:\n",
    "        acct.count()\n",
    "        mid = len(l)//2; acct.count() \n",
    "        lefthalf = l[:mid]; acct.count()\n",
    "        righthalf = l[mid:]; acct.count() \n",
    "\n",
    "        merge_sort_acct(lefthalf, acct)\n",
    "        merge_sort_acct(righthalf, acct)\n",
    "\n",
    "        i=0\n",
    "        j=0\n",
    "        k=0\n",
    "        while i < len(lefthalf) and j < len(righthalf):\n",
    "            acct.count()\n",
    "            if lefthalf[i] < righthalf[j]:\n",
    "                acct.count()\n",
    "                l[k]=lefthalf[i]; acct.count() \n",
    "                i=i+1; acct.count()\n",
    "            else:\n",
    "                l[k]=righthalf[j]; acct.count()\n",
    "                j=j+1; acct.count()\n",
    "            k=k+1; acct.count() \n",
    "\n",
    "        while i < len(lefthalf):\n",
    "            acct.count()\n",
    "            l[k]=lefthalf[i]; acct.count() \n",
    "            i=i+1; acct.count() \n",
    "            k=k+1; acct.count() \n",
    "\n",
    "        while j < len(righthalf):\n",
    "            acct.count()\n",
    "            l[k]=righthalf[j]; acct.count() \n",
    "            j=j+1; acct.count() \n",
    "            k=k+1; acct.count()\n",
    "        toc = time.clock()#get final time"
   ]
  },
  {
   "cell_type": "code",
   "execution_count": 13,
   "metadata": {
    "collapsed": false
   },
   "outputs": [],
   "source": [
    "import random as rnd\n",
    "import time\n",
    "\n",
    "def exper_analysis(n):\n",
    "    results = []\n",
    "    acct = Counter()\n",
    "   \n",
    "    for i in range(n):\n",
    "        l = range(i)\n",
    "        rnd.shuffle(l)\n",
    "        acct.reset()\n",
    "        acct_insertion_sort(l, acct)\n",
    "        results.append(acct.steps)\n",
    "    return results\n",
    "\n",
    "def exper_analysis_time(n):\n",
    "    results = []\n",
    "    \n",
    "    for i in range(n):\n",
    "        l = range(i)\n",
    "        rnd.shuffle(l)\n",
    "        tic = time.clock()#get final time\n",
    "        acct_insertion_sort(l, acct)\n",
    "        toc = time.clock()#get final time\n",
    "        t = (toc-tic)*3500000\n",
    "        results.append(t)\n",
    "    return results\n",
    "\n",
    "def analysisTeorico(n):\n",
    "    r = []\n",
    "    for t in range(n):\n",
    "        l = t*t\n",
    "        r.append(l)\n",
    "    return r"
   ]
  },
  {
   "cell_type": "code",
   "execution_count": 14,
   "metadata": {
    "collapsed": false
   },
   "outputs": [
    {
     "name": "stdout",
     "output_type": "stream",
     "text": [
      "Number of steps = 131\n",
      "Number of steps = 318\n"
     ]
    }
   ],
   "source": [
    "B = np.random.permutation(range(0,10))\n",
    "acct = Counter()\n",
    "acct_insertion_sort(B, acct)\n",
    "acct.print_steps()\n",
    "merge_sort_acct(B, acct)\n",
    "acct.print_steps()"
   ]
  },
  {
   "cell_type": "code",
   "execution_count": 15,
   "metadata": {
    "collapsed": false
   },
   "outputs": [
    {
     "name": "stdout",
     "output_type": "stream",
     "text": [
      "[59.49999999976807, 13.999999999625423, 69.99999999968142, 84.00000000008401, 132.99999999993872, 199.50000000068525, 343.00000000053734, 255.49999999996407, 342.9999999997602, 574.0000000001854, 454.99999999987216, 829.5000000001496, 643.9999999998669, 860.9999999998896, 1008.0000000002309, 1133.9999999999684, 1403.5000000003351, 1053.5000000003736, 1802.5000000001512, 2358.9999999994448, 2537.5000000003033, 2740.4999999999236, 2075.50000000023, 2082.500000000431, 2677.499999999666, 3093.999999999597, 3996.9999999999172, 3878.000000000381, 3839.4999999996626, 4396.00000000051, 3916.4999999995453, 5239.499999999509, 4280.499999999909, 4808.999999999952, 4767.000000000299, 5327.000000000082, 5351.500000000397, 5743.500000000013, 5809.999999999982, 6874.000000000269, 6331.499999999824, 7255.49999999997, 7311.500000000026, 8172.499999999916, 7755.999999999985, 7048.999999999861, 9121.000000000378, 8319.49999999948, 9747.500000000131, 9659.999999999558]\n"
     ]
    }
   ],
   "source": [
    "print exper_analysis_time(50)"
   ]
  },
  {
   "cell_type": "markdown",
   "metadata": {},
   "source": [
    "<h4>Análisis experimental</h4>\n",
    "Ahora vamos a analizar el comportamiento del algoritmo cuando el tamaño de la entrada varía. La siguiente función genera arreglos al azar de tamaño 1 a n, llama la función acct_insertion_sort(l, acct) y contabiliza el número de pasos."
   ]
  },
  {
   "cell_type": "code",
   "execution_count": 42,
   "metadata": {
    "collapsed": false
   },
   "outputs": [
    {
     "data": {
      "text/plain": [
       "[<matplotlib.lines.Line2D at 0x7f1c94a9c150>]"
      ]
     },
     "execution_count": 42,
     "metadata": {},
     "output_type": "execute_result"
    },
    {
     "data": {
      "image/png": "[encoded data removed]",
      "text/plain": [
       "<matplotlib.figure.Figure at 0x7f1c94a0ff10>"
      ]
     },
     "metadata": {},
     "output_type": "display_data"
    }
   ],
   "source": [
    "pl.clf()\n",
    "x = np.arange(200)\n",
    "y = np.array(exper_analysis(200))\n",
    "pl.plot(x, y, 'bs')\n",
    "i = np.array(exper_analysis_time(200))\n",
    "pl.plot(x, i, 'ro') \n",
    "o = np.array(analysisTeorico(200))\n",
    "pl.plot(x, o, 'yo') "
   ]
  },
  {
   "cell_type": "markdown",
   "metadata": {},
   "source": [
    "#Actividad\n",
    " <ol>\n",
    "  <li>En una sola gráfica represente el número de operaciones, tiempo y T(n) que el algoritmo de ordenamiento por inserción requiere para ordenar arreglos de tamaño n (varie n) en el peor de los casos.</li>\n",
    "  <li>Replique los ejercicios realizados en este taller para el algoritmo de ordenamiento por mezclas (merge sort)</li>\n",
    "  <li>Replique los ejercicios realizados en este taller para el algoritmo de ordenamiento quick-sort</li>\n",
    "</ol> "
   ]
  },
  {
   "cell_type": "code",
   "execution_count": 17,
   "metadata": {
    "collapsed": true
   },
   "outputs": [],
   "source": [
    "import time\n",
    "tic = time.clock()#get start time\n",
    "toc = time.clock()#get final time"
   ]
  },
  {
   "cell_type": "markdown",
   "metadata": {
    "collapsed": true
   },
   "source": [
    "<h4> Ordenamiento por mezclas</h4>"
   ]
  },
  {
   "cell_type": "code",
   "execution_count": 18,
   "metadata": {
    "collapsed": false
   },
   "outputs": [],
   "source": [
    "def merge_sort(l):\n",
    "    \n",
    "    if len(l)>1:\n",
    "        \n",
    "        mid = len(l)//2 \n",
    "        lefthalf = l[:mid] \n",
    "        righthalf = l[mid:] \n",
    "\n",
    "        mergeSort(lefthalf)\n",
    "        mergeSort(righthalf)\n",
    "\n",
    "        i=0\n",
    "        j=0\n",
    "        k=0\n",
    "        while i < len(lefthalf) and j < len(righthalf):\n",
    "            \n",
    "            if lefthalf[i] < righthalf[j]:\n",
    "                \n",
    "                l[k]=lefthalf[i] \n",
    "                i=i+1 \n",
    "            else:\n",
    "                l[k]=righthalf[j] \n",
    "                j=j+1 \n",
    "            k=k+1 \n",
    "\n",
    "        while i < len(lefthalf):\n",
    "            \n",
    "            l[k]=lefthalf[i] \n",
    "            i=i+1 \n",
    "            k=k+1 \n",
    "\n",
    "        while j < len(righthalf):\n",
    "            \n",
    "            l[k]=righthalf[j] \n",
    "            j=j+1 \n",
    "            k=k+1 \n",
    "    #tomado de http://interactivepython.org/courselib/static/pythonds/SortSearch/TheMergeSort.html\n",
    "            \n",
    "def merge_sort_acct(l, acct):\n",
    "\n",
    "    tic = time.clock()#get start time\n",
    "    \n",
    "    if len(l)>1:\n",
    "        acct.count()\n",
    "        mid = len(l)//2; acct.count() \n",
    "        lefthalf = l[:mid]; acct.count()\n",
    "        righthalf = l[mid:]; acct.count() \n",
    "\n",
    "        merge_sort_acct(lefthalf, acct)\n",
    "        merge_sort_acct(righthalf, acct)\n",
    "\n",
    "        i=0\n",
    "        j=0\n",
    "        k=0\n",
    "        while i < len(lefthalf) and j < len(righthalf):\n",
    "            acct.count()\n",
    "            if lefthalf[i] < righthalf[j]:\n",
    "                acct.count()\n",
    "                l[k]=lefthalf[i]; acct.count() \n",
    "                i=i+1; acct.count()\n",
    "            else:\n",
    "                l[k]=righthalf[j]; acct.count()\n",
    "                j=j+1; acct.count()\n",
    "            k=k+1; acct.count() \n",
    "\n",
    "        while i < len(lefthalf):\n",
    "            acct.count()\n",
    "            l[k]=lefthalf[i]; acct.count() \n",
    "            i=i+1; acct.count() \n",
    "            k=k+1; acct.count() \n",
    "\n",
    "        while j < len(righthalf):\n",
    "            acct.count()\n",
    "            l[k]=righthalf[j]; acct.count() \n",
    "            j=j+1; acct.count() \n",
    "            k=k+1; acct.count()\n",
    "        toc = time.clock()#get final time"
   ]
  },
  {
   "cell_type": "code",
   "execution_count": 19,
   "metadata": {
    "collapsed": false
   },
   "outputs": [
    {
     "name": "stdout",
     "output_type": "stream",
     "text": [
      "[20, 15, 26, 365, 98, 12, 1, 35, 69]\n",
      "[1, 12, 15, 20, 26, 35, 69, 98, 365]\n",
      "Number of steps = 157\n"
     ]
    }
   ],
   "source": [
    "lista = [20,15,26,365,98,12,1,35,69]\n",
    "print lista\n",
    "acct = Counter()\n",
    "merge_sort_acct(lista, acct)\n",
    "print lista\n",
    "acct.print_steps()\n"
   ]
  },
  {
   "cell_type": "code",
   "execution_count": 26,
   "metadata": {
    "collapsed": true
   },
   "outputs": [],
   "source": [
    "import random as rnd\n",
    "import time\n",
    "\n",
    "def exper_analysis(n):\n",
    "    results = []\n",
    "    acct = Counter()\n",
    "   \n",
    "    for i in range(n):\n",
    "        l = range(i)\n",
    "        rnd.shuffle(l)\n",
    "        acct.reset()\n",
    "        merge_sort_acct(l, acct)\n",
    "        results.append(acct.steps)\n",
    "    return results\n",
    "\n",
    "def exper_analysis_time(n):\n",
    "    results = []\n",
    "    \n",
    "    for i in range(n):\n",
    "        l = range(i)\n",
    "        rnd.shuffle(l)\n",
    "        tic = time.clock()#get final time\n",
    "        merge_sort_acct(l, acct)\n",
    "        toc = time.clock()#get final time\n",
    "        t = (toc-tic)*3500000\n",
    "        results.append(t)\n",
    "    return results\n",
    "\n",
    "def analysisTeoricoM(n):\n",
    "    r = []\n",
    "    for t in range(n):\n",
    "        l = t*np.log(t)\n",
    "        r.append(l)\n",
    "    return r"
   ]
  },
  {
   "cell_type": "code",
   "execution_count": 27,
   "metadata": {
    "collapsed": false
   },
   "outputs": [
    {
     "name": "stderr",
     "output_type": "stream",
     "text": [
      "/opt/conda/envs/python2/lib/python2.7/site-packages/ipykernel/__main__.py:32: RuntimeWarning: divide by zero encountered in log\n",
      "/opt/conda/envs/python2/lib/python2.7/site-packages/ipykernel/__main__.py:32: RuntimeWarning: invalid value encountered in double_scalars\n"
     ]
    },
    {
     "data": {
      "text/plain": [
       "[<matplotlib.lines.Line2D at 0x7f1c97909a50>]"
      ]
     },
     "execution_count": 27,
     "metadata": {},
     "output_type": "execute_result"
    },
    {
     "data": {
      "image/png": "[encoded data removed]",
      "text/plain": [
       "<matplotlib.figure.Figure at 0x7f1c94f65d10>"
      ]
     },
     "metadata": {},
     "output_type": "display_data"
    }
   ],
   "source": [
    "pl.clf()\n",
    "x = np.arange(200)\n",
    "y = np.array(exper_analysis(200))\n",
    "pl.plot(x, y, 'bs')\n",
    "i = np.array(exper_analysis_time(200))\n",
    "pl.plot(x, i, 'ro')\n",
    "q = np.array(analysisTeoricoM(200))\n",
    "pl.plot(x, q, 'yo')\n"
   ]
  },
  {
   "cell_type": "markdown",
   "metadata": {},
   "source": [
    "<h4> Ordenamiento Quick-Sort</h4>"
   ]
  },
  {
   "cell_type": "code",
   "execution_count": 31,
   "metadata": {
    "collapsed": false
   },
   "outputs": [],
   "source": [
    "def quickSort(l):\n",
    "   quickSortHelper(l,0,len(l)-1)\n",
    "\n",
    "def quickSortHelper(l,first,last):\n",
    "   if first<last:\n",
    "\n",
    "       splitpoint = partition(l,first,last)\n",
    "\n",
    "       quickSortHelper(l,first,splitpoint-1)\n",
    "       quickSortHelper(l,splitpoint+1,last)\n",
    "\n",
    "\n",
    "def partition(l,first,last):\n",
    "   pivotvalue = l[first]\n",
    "\n",
    "   leftmark = first+1\n",
    "   rightmark = last\n",
    "\n",
    "   done = False\n",
    "   while not done:\n",
    "\n",
    "       while leftmark <= rightmark and l[leftmark] <= pivotvalue:\n",
    "           leftmark = leftmark + 1\n",
    "\n",
    "       while l[rightmark] >= pivotvalue and rightmark >= leftmark:\n",
    "           rightmark = rightmark -1\n",
    "\n",
    "       if rightmark < leftmark:\n",
    "           done = True\n",
    "       else:\n",
    "           temp = l[leftmark]\n",
    "           l[leftmark] = l[rightmark]\n",
    "           l[rightmark] = temp\n",
    "\n",
    "   temp = l[first]\n",
    "   l[first] = l[rightmark]\n",
    "   l[rightmark] = temp\n",
    "\n",
    "\n",
    "   return rightmark\n",
    "#tomado https://interactivepython.org/runestone/static/pythonds/SortSearch/TheQuickSort.html"
   ]
  },
  {
   "cell_type": "code",
   "execution_count": 32,
   "metadata": {
    "collapsed": false
   },
   "outputs": [
    {
     "name": "stdout",
     "output_type": "stream",
     "text": [
      "[6 8 4 7 5 0 3 9 2 1]\n",
      "[0 1 2 3 4 5 6 7 8 9]\n"
     ]
    }
   ],
   "source": [
    "l = np.random.permutation(range(0,10))\n",
    "print(l)\n",
    "quickSort(l)\n",
    "print(l)"
   ]
  },
  {
   "cell_type": "code",
   "execution_count": 37,
   "metadata": {
    "collapsed": true
   },
   "outputs": [],
   "source": [
    "import random as rnd\n",
    "import time\n",
    "\n",
    "def exper_analysis_q(n):\n",
    "    results = []\n",
    "    acct = Counter()\n",
    "   \n",
    "    for i in range(n):\n",
    "        l = range(i)\n",
    "        rnd.shuffle(l)\n",
    "        acct.reset()\n",
    "        merge_sort_acct(l, acct)\n",
    "        results.append(acct.steps)\n",
    "    return results\n",
    "\n",
    "def exper_analysis_time_q(n):\n",
    "    results = []\n",
    "    \n",
    "    for i in range(n):\n",
    "        l = range(i)\n",
    "        rnd.shuffle(l)\n",
    "        tic = time.clock()#get final time\n",
    "        quickSort(l)\n",
    "        toc = time.clock()#get final time\n",
    "        t = (toc-tic)*4500000\n",
    "        results.append(t)\n",
    "    return results"
   ]
  },
  {
   "cell_type": "code",
   "execution_count": 39,
   "metadata": {
    "collapsed": false
   },
   "outputs": [
    {
     "name": "stderr",
     "output_type": "stream",
     "text": [
      "/opt/conda/envs/python2/lib/python2.7/site-packages/ipykernel/__main__.py:32: RuntimeWarning: divide by zero encountered in log\n",
      "/opt/conda/envs/python2/lib/python2.7/site-packages/ipykernel/__main__.py:32: RuntimeWarning: invalid value encountered in double_scalars\n"
     ]
    },
    {
     "data": {
      "text/plain": [
       "[<matplotlib.lines.Line2D at 0x7f1c94cce910>]"
      ]
     },
     "execution_count": 39,
     "metadata": {},
     "output_type": "execute_result"
    },
    {
     "data": {
      "image/png": "[encoded data removed]",
      "text/plain": [
       "<matplotlib.figure.Figure at 0x7f1c94c59090>"
      ]
     },
     "metadata": {},
     "output_type": "display_data"
    }
   ],
   "source": [
    "pl.clf()\n",
    "x = np.arange(200)\n",
    "y = np.array(exper_analysis_q(200))\n",
    "pl.plot(x, y, 'bs')\n",
    "i = np.array(exper_analysis_time_q(200))\n",
    "pl.plot(x, i, 'ro')\n",
    "e = np.array(analysisTeoricoM(200))\n",
    "pl.plot(x, e, 'yo')\n"
   ]
  },
  {
   "cell_type": "code",
   "execution_count": null,
   "metadata": {
    "collapsed": true
   },
   "outputs": [],
   "source": []
  }
 ],
 "metadata": {
  "kernelspec": {
   "display_name": "Python 2",
   "language": "python",
   "name": "python2"
  },
  "language_info": {
   "codemirror_mode": {
    "name": "ipython",
    "version": 2
   },
   "file_extension": ".py",
   "mimetype": "text/x-python",
   "name": "python",
   "nbconvert_exporter": "python",
   "pygments_lexer": "ipython2",
   "version": "2.7.12"
  }
 },
 "nbformat": 4,
 "nbformat_minor": 0
}
