{
 "cells": [
  {
   "cell_type": "markdown",
   "metadata": {},
   "source": [
    "1. Implemente el algoritmo de búsqueda en profundidad (DFS) y pruebelo para recorrer el grafo del laberinto de pacman.\n",
    "<img SRC=\"http://i64.tinypic.com/4qn575.png\">"
   ]
  },
  {
   "cell_type": "code",
   "execution_count": 3,
   "metadata": {
    "collapsed": true
   },
   "outputs": [],
   "source": [
    "\n",
    "\n",
    "g = {1: set([3,4,6]),\n",
    "         2: set([7,9,10]),\n",
    "         3: set([1,4,11]),\n",
    "         4: set([3,4,6]),\n",
    "         5: set([4,6,12]),\n",
    "         6: set([1,5,7]),\n",
    "         7: set([2,6,8]),\n",
    "         8: set([7,9,13]),\n",
    "         9: set([2,8,10,14]),\n",
    "         10: set([2,9,14]),\n",
    "         11: set([3,4,17]),\n",
    "         12: set([5,15]),\n",
    "         13: set([8,16]),\n",
    "         14: set([9,10,20]),\n",
    "         15: set([12,16,18]),\n",
    "         16: set([13,15,19]),\n",
    "         17: set([11,18,23]),\n",
    "         18: set([15,17,21]),\n",
    "         19: set([16,20,22]),\n",
    "         20: set([14,19,26]),\n",
    "         21: set([18,22,24]),\n",
    "         22: set([19,21,25]),\n",
    "         23: set([17,24,27,33]),\n",
    "         24: set([21,23,28]),\n",
    "         25: set([22,26,30]),\n",
    "         26: set([20,25,32,34]),\n",
    "         27: set([23,28,33]),\n",
    "         28: set([27,29,35]),\n",
    "         29: set([24,28,30]),\n",
    "         30: set([25,29,31]),\n",
    "         31: set([30,32,36]),\n",
    "         32: set([26,31,34]),\n",
    "         33: set([23,27,35]),\n",
    "         34: set([26,32,36]),\n",
    "         35: set([28,33,36]),\n",
    "         36: set([31,34,35])}\n",
    "#algoritmo tomado de http://eddmann.com/posts/depth-first-search-and-breadth-first-search-in-python/\n",
    "def dfs(graph, start):\n",
    "    visited, stack = set(), [start]\n",
    "    while stack:\n",
    "        vertex = stack.pop()\n",
    "        if vertex not in visited:\n",
    "            visited.add(vertex)\n",
    "            stack.extend(graph[vertex] - visited)\n",
    "    return visited"
   ]
  },
  {
   "cell_type": "code",
   "execution_count": 2,
   "metadata": {
    "collapsed": false
   },
   "outputs": [
    {
     "data": {
      "text/plain": [
       "{1,\n",
       " 2,\n",
       " 3,\n",
       " 4,\n",
       " 5,\n",
       " 6,\n",
       " 7,\n",
       " 8,\n",
       " 9,\n",
       " 10,\n",
       " 11,\n",
       " 12,\n",
       " 13,\n",
       " 14,\n",
       " 15,\n",
       " 16,\n",
       " 17,\n",
       " 18,\n",
       " 19,\n",
       " 20,\n",
       " 21,\n",
       " 22,\n",
       " 23,\n",
       " 24,\n",
       " 25,\n",
       " 26,\n",
       " 27,\n",
       " 28,\n",
       " 29,\n",
       " 30,\n",
       " 31,\n",
       " 32,\n",
       " 33,\n",
       " 34,\n",
       " 35,\n",
       " 36}"
      ]
     },
     "execution_count": 2,
     "metadata": {},
     "output_type": "execute_result"
    }
   ],
   "source": [
    "dfs(g,1)"
   ]
  },
  {
   "cell_type": "markdown",
   "metadata": {},
   "source": [
    "2.Realice el análisis del tiempo de ejecución del algoritmo DFS, justifiquelo."
   ]
  },
  {
   "cell_type": "markdown",
   "metadata": {},
   "source": [
    "el tiempo de complejidad de DFS es O(n + m)."
   ]
  },
  {
   "cell_type": "markdown",
   "metadata": {},
   "source": [
    "3.Diseñe e implemente un algoritmo que identifique ciclos en un grafo."
   ]
  },
  {
   "cell_type": "code",
   "execution_count": 4,
   "metadata": {
    "collapsed": true
   },
   "outputs": [],
   "source": [
    "#tomado de http://stackoverflow.com/questions/40833612/find-all-cycles-in-a-graph-implementation\n",
    "\n",
    "def dfs(self,node1, node2):\n",
    "    if self.visited[node2]:\n",
    "        if(node1 == node2):\n",
    "            self.count += 1\n",
    "            print node2\n",
    "        return\n",
    "\n",
    "    self.visited[node2] = True\n",
    "\n",
    "    for x in self.adj_lst[node2-1]:\n",
    "        self.dfs(node1, x)\n",
    "\n",
    "    self.visited[node2] = False\n",
    "\n",
    "def allCycles(self):\n",
    "    self.count = 0\n",
    "    for x in self.VList:\n",
    "        self.dfs(x.num, x.num)\n",
    "        self.visited[x.num] = True\n",
    "\n",
    "    print \"Number of cycles: \"+str(self.count)"
   ]
  },
  {
   "cell_type": "markdown",
   "metadata": {},
   "source": [
    "4.Diseñe e implemente un algoritmo que verifique si un grafo es bipartito o no."
   ]
  },
  {
   "cell_type": "markdown",
   "metadata": {},
   "source": [
    "5.Modifique el algoritmo de dijkstra para solucionar el problema de la ruta más corta en un grafo sin pesos, i.e. partiendo de un vertice inicial encontrar la ruta y su distancia a todos los demás vertices haciendo la menor cantidad de saltos (vertices en la ruta)"
   ]
  },
  {
   "cell_type": "code",
   "execution_count": 22,
   "metadata": {
    "collapsed": false
   },
   "outputs": [],
   "source": [
    "#tomado de http://code.activestate.com/recipes/119466-dijkstras-algorithm-for-shortest-paths/\n",
    "def shortest_path(G, start, end):\n",
    "   def flatten(L):       # Flatten linked list of form [0,[1,[2,[]]]]\n",
    "      while len(L) > 0:\n",
    "         yield L[0]\n",
    "         L = L[1]\n",
    "\n",
    "   q = [(0, start, ())]  # Heap of (cost, path_head, path_rest).\n",
    "   visited = set()       # Visited vertices.\n",
    "   while True:\n",
    "      (cost, v1, path) = heapq.heappop(q)\n",
    "      if v1 not in visited:\n",
    "         visited.add(v1)\n",
    "         if v1 == end:\n",
    "            return list(flatten(path))[::-1] + [v1]\n",
    "         path = (v1, path)\n",
    "         for (v2, cost2) in G[v1].iteritems():\n",
    "            if v2 not in visited:\n",
    "               heapq.heappush(q, (cost + cost2, v2, path))"
   ]
  },
  {
   "cell_type": "code",
   "execution_count": 23,
   "metadata": {
    "collapsed": false
   },
   "outputs": [
    {
     "ename": "NameError",
     "evalue": "global name 'heapq' is not defined",
     "output_type": "error",
     "traceback": [
      "\u001b[0;31m---------------------------------------------------------------------------\u001b[0m",
      "\u001b[0;31mNameError\u001b[0m                                 Traceback (most recent call last)",
      "\u001b[0;32m<ipython-input-23-3454ae992d0e>\u001b[0m in \u001b[0;36m<module>\u001b[0;34m()\u001b[0m\n\u001b[0;32m----> 1\u001b[0;31m \u001b[0mshortest_path\u001b[0m\u001b[1;33m(\u001b[0m\u001b[0mg\u001b[0m\u001b[1;33m,\u001b[0m\u001b[1;36m1\u001b[0m\u001b[1;33m,\u001b[0m\u001b[1;36m36\u001b[0m\u001b[1;33m)\u001b[0m\u001b[1;33m\u001b[0m\u001b[0m\n\u001b[0m",
      "\u001b[0;32m<ipython-input-22-6d44885749ab>\u001b[0m in \u001b[0;36mshortest_path\u001b[0;34m(G, start, end)\u001b[0m\n\u001b[1;32m      8\u001b[0m    \u001b[0mvisited\u001b[0m \u001b[1;33m=\u001b[0m \u001b[0mset\u001b[0m\u001b[1;33m(\u001b[0m\u001b[1;33m)\u001b[0m       \u001b[1;31m# Visited vertices.\u001b[0m\u001b[1;33m\u001b[0m\u001b[0m\n\u001b[1;32m      9\u001b[0m    \u001b[1;32mwhile\u001b[0m \u001b[0mTrue\u001b[0m\u001b[1;33m:\u001b[0m\u001b[1;33m\u001b[0m\u001b[0m\n\u001b[0;32m---> 10\u001b[0;31m       \u001b[1;33m(\u001b[0m\u001b[0mcost\u001b[0m\u001b[1;33m,\u001b[0m \u001b[0mv1\u001b[0m\u001b[1;33m,\u001b[0m \u001b[0mpath\u001b[0m\u001b[1;33m)\u001b[0m \u001b[1;33m=\u001b[0m \u001b[0mheapq\u001b[0m\u001b[1;33m.\u001b[0m\u001b[0mheappop\u001b[0m\u001b[1;33m(\u001b[0m\u001b[0mq\u001b[0m\u001b[1;33m)\u001b[0m\u001b[1;33m\u001b[0m\u001b[0m\n\u001b[0m\u001b[1;32m     11\u001b[0m       \u001b[1;32mif\u001b[0m \u001b[0mv1\u001b[0m \u001b[1;32mnot\u001b[0m \u001b[1;32min\u001b[0m \u001b[0mvisited\u001b[0m\u001b[1;33m:\u001b[0m\u001b[1;33m\u001b[0m\u001b[0m\n\u001b[1;32m     12\u001b[0m          \u001b[0mvisited\u001b[0m\u001b[1;33m.\u001b[0m\u001b[0madd\u001b[0m\u001b[1;33m(\u001b[0m\u001b[0mv1\u001b[0m\u001b[1;33m)\u001b[0m\u001b[1;33m\u001b[0m\u001b[0m\n",
      "\u001b[0;31mNameError\u001b[0m: global name 'heapq' is not defined"
     ]
    }
   ],
   "source": [
    "shortest_path(g,1,36)"
   ]
  },
  {
   "cell_type": "code",
   "execution_count": null,
   "metadata": {
    "collapsed": true
   },
   "outputs": [],
   "source": []
  }
 ],
 "metadata": {
  "kernelspec": {
   "display_name": "Python 2",
   "language": "python",
   "name": "python2"
  },
  "language_info": {
   "codemirror_mode": {
    "name": "ipython",
    "version": 2
   },
   "file_extension": ".py",
   "mimetype": "text/x-python",
   "name": "python",
   "nbconvert_exporter": "python",
   "pygments_lexer": "ipython2",
   "version": "2.7.13"
  }
 },
 "nbformat": 4,
 "nbformat_minor": 2
}
