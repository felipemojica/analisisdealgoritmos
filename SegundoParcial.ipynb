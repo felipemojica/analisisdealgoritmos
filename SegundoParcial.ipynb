{
 "cells": [
  {
   "cell_type": "markdown",
   "metadata": {},
   "source": [
    "1.Es posible transformar algorithm en analysis sin usar operaciones “izquierda”. Escriba una secuencia\n",
    "de operaciones (de la misma forma que la tabla de ejemplo) que tenga el mismo costo que el mostrado\n",
    "en el ejemplo pero sin usar operaciones “izquierda”.\n",
    "\n",
    "<table border=\"1\">\n",
    "    <tr>\n",
    "        <th scope=\"col\" id=\"Operacion\">Operacion</th>\n",
    "        <th scope=\"col\" id=\"Z\" >Z</th>\n",
    "        <th scope=\"col\" id=\"Costo\">Costo</th>\n",
    "        <th scope=\"col\" id=\"Total\">Total</th>\n",
    "    </tr> \n",
    "    <tr> \n",
    "        <td headers=\"Operacion\">inicializacion</td>\n",
    "        <td headers=\"Z\">algorithm</td>\n",
    "        <td headers=\"Costo\">0</td>\n",
    "        <td headers=\"Total\">0</td>\n",
    "    </tr> \n",
    "    <tr> \n",
    "        <td headers=\"Operacion\">derecha</td>\n",
    "        <td headers=\"Z\">algorithm</td>\n",
    "        <td headers=\"Costo\">0</td>\n",
    "        <td headers=\"Total\">0</td>\n",
    "    </tr> \n",
    "     <tr> \n",
    "        <td headers=\"Operacion\">insertar (n)</td>\n",
    "        <td headers=\"Z\">anlgorithm</td>\n",
    "        <td headers=\"Costo\">3</td>\n",
    "        <td headers=\"Total\">3</td>\n",
    "    </tr>\n",
    "    <tr> \n",
    "        <td headers=\"Operacion\">insertar (a) </td>\n",
    "        <td headers=\"Z\">analgorithm</td>\n",
    "        <td headers=\"Costo\">3</td>\n",
    "        <td headers=\"Total\">6</td>\n",
    "    </tr>\n",
    "    <tr> \n",
    "        <td headers=\"Operacion\">derecha</td>\n",
    "        <td headers=\"Z\">analgorithm</td>\n",
    "        <td headers=\"Costo\">0</td>\n",
    "        <td headers=\"Total\">6</td>\n",
    "    </tr> <tr> \n",
    "        <td headers=\"Operacion\">reemplazar (por y)</td>\n",
    "        <td headers=\"Z\">analyorithm</td>\n",
    "        <td headers=\"Costo\">4</td>\n",
    "        <td headers=\"Total\">10</td>\n",
    "    </tr> <tr> \n",
    "        <td headers=\"Operacion\">reemplazar (por s)</td>\n",
    "        <td headers=\"Z\">analysrithm</td>\n",
    "        <td headers=\"Costo\">4</td>\n",
    "        <td headers=\"Total\">14</td>\n",
    "    </tr> <tr> \n",
    "        <td headers=\"Operacion\">reemplazar (por i)</td>\n",
    "        <td headers=\"Z\">analysiithm</td>\n",
    "        <td headers=\"Costo\">4</td>\n",
    "        <td headers=\"Total\">18</td>\n",
    "    </tr> <tr> \n",
    "        <td headers=\"Operacion\">reemplazar (por s)</td>\n",
    "        <td headers=\"Z\">analysisthm</td>\n",
    "        <td headers=\"Costo\">4</td>\n",
    "        <td headers=\"Total\">22</td>\n",
    "    </tr>\n",
    "     <tr> \n",
    "        <td headers=\"Operacion\">eliminar</td>\n",
    "        <td headers=\"Z\">analysishm</td>\n",
    "        <td headers=\"Costo\">2</td>\n",
    "        <td headers=\"Total\">24</td>\n",
    "    </tr> <tr> \n",
    "        <td headers=\"Operacion\">eliminar</td>\n",
    "        <td headers=\"Z\">analysism</td>\n",
    "        <td headers=\"Costo\">2</td>\n",
    "        <td headers=\"Total\">26</td>\n",
    "    </tr> <tr> \n",
    "        <td headers=\"Operacion\">eliminar</td>\n",
    "        <td headers=\"Z\">analysis</td>\n",
    "        <td headers=\"Costo\">2</td>\n",
    "        <td headers=\"Total\">28</td>\n",
    "    </tr>"
   ]
  },
  {
   "cell_type": "markdown",
   "metadata": {},
   "source": [
    "2.Muestre que para dos cadenas x y y con distancia de edici´on d(x, y), existe una secuencia S de operaciones\n",
    "que transforman x en y con costo d(x, y) donde S no contiene operaciones “izquierda”.\n"
   ]
  },
  {
   "cell_type": "markdown",
   "metadata": {},
   "source": [
    "si tenemos una secuencia S1 con operaciones de izquerda, se puede ver que si se hace una adiciol de alguna letra y despues se elimina, ambos comandos son eliminados de S1 y se logra crear otra secuencia S2. por ende si se hacen reemplazos e inserciones despues de realizar otros cambios e inserciones pueden ser reordenados desde derecha y no se veria afectada la transformacion. \n",
    "\n"
   ]
  },
  {
   "cell_type": "markdown",
   "metadata": {},
   "source": [
    "3.Muestre que el problema de calcular la distancia de edicion d(x, y) presenta una subestructura ´optima.\n",
    "(Considere todos los sufijos de x y y)\n"
   ]
  },
  {
   "cell_type": "markdown",
   "metadata": {},
   "source": [
    "$Costo = c_{xy}y(i, j) = d(x, y[1 . . i]||x[j + 1 . . m])$ -> el costo minimo para cambiar el primer caracter j de X en el primer caracter de i en Y\n",
    "\n",
    "Si tenemos una secuencia de operaciones y se transforma $X$ a $Y$ con costo ($C(S) = d(x, y).$) suponemos que  $C(S_i) = d(x, z_i),  C(S_{i−1}) = d(x, z_{i−1})$ manejando una secuencia auxiliar z, hariamos una contradiccion de C con d, lo cual nos permite hallar que $d(x, z_i)$  no es la distancia de edicion entre $x$ y $z_i$(contradiccion), lo cual si presentaria una subestructura optima."
   ]
  },
  {
   "cell_type": "markdown",
   "metadata": {},
   "source": [
    "4.Recursivamente defina el valor de la distancia de edici´on d(x, y) en terminos de los sufijos de las cadenas\n",
    "x y y. Se˜nale como la distancia de edici´on contiene sobrelapamiento de los subproblemas"
   ]
  },
  {
   "cell_type": "markdown",
   "metadata": {},
   "source": [
    "con el costo $Costo = c_{xy}y(i, j) = d(x, y[1 . . i]||x[j + 1 . . m])$ y el caso base $c_{xy}(0, 0) = 0$ donde no ocurre operaciones.\n",
    "\n",
    "$c_{xy}(i, j) = min \\begin{cases}\n",
    "    0        & \\quad \\text{if } i = 0  \\text{ y }  j = 0\\\\\n",
    "    c_{xy}(i − 1, j − 1)  & \\quad \\text{si } i > 0  \\text{ y }  j > 0 \\text{ y }  x[i − 1] = y[j − 1]\\\\\n",
    "    c_{xy}(i − 1, j − 1) + 4 & \\quad \\text{si } i > 0  \\text{ y }  j > 0 \\\\\n",
    "    c_{xy}(i − 1, j) + 2 & \\quad \\text{si } i > 0\\\\\n",
    "    c_{xy}(i, j − 1) + 3 & \\quad \\text{si } i > 0 \\\\\n",
    "  \\end{cases}$\n",
    "  \n",
    "  si se calcula $c_{xy}(i, j), c_{xy}(i−1, j), \\text{ y }c_{xy}(i, j −1) $ se puede ver que hay sobrelapamiento de los subproblemas"
   ]
  },
  {
   "cell_type": "markdown",
   "metadata": {},
   "source": [
    "5.Describa un algoritmo de programacion din´amica que calcule la distancia de edicion de x y y. (No use\n",
    "memorizacion) Analise el tiempo de ejecuci´on y el espacio requeridos por su algoritmo.\n"
   ]
  },
  {
   "cell_type": "code",
   "execution_count": 16,
   "metadata": {
    "collapsed": false
   },
   "outputs": [],
   "source": [
    "import time\n",
    "def distancia(str1, str2, m, n):\n",
    "    tic = time.clock()\n",
    "    dp = [[0 for x in range(n+1)] for x in range(m+1)]\n",
    " \n",
    "    for i in range(m+1):\n",
    "        for j in range(n+1):\n",
    "       \n",
    "            if i == 0:\n",
    "                dp[i][j] = j    \n",
    "     \n",
    "            elif j == 0:\n",
    "                dp[i][j] = i    \n",
    "    \n",
    "            elif str1[i-1] == str2[j-1]:\n",
    "                dp[i][j] = dp[i-1][j-1]\n",
    "    \n",
    "            else:\n",
    "                dp[i][j] = 1 + min(dp[i][j-1],        \n",
    "                                   dp[i-1][j],        \n",
    "                                   dp[i-1][j-1])    \n",
    "    toc = time.clock()\n",
    "    tiempo = toc-tic\n",
    "    print tiempo * 10000 \n",
    "    return dp[m][n]\n",
    "# algoritmo otenido de http://www.geeksforgeeks.org/dynamic-programming-set-5-edit-distance/"
   ]
  },
  {
   "cell_type": "markdown",
   "metadata": {},
   "source": [
    "El tiempo de ejecucion es  $\\Theta (mn)$ por lo que su espacio requerido tambien es $\\Theta (mn)$"
   ]
  },
  {
   "cell_type": "code",
   "execution_count": 17,
   "metadata": {
    "collapsed": false
   },
   "outputs": [
    {
     "name": "stdout",
     "output_type": "stream",
     "text": [
      "2.72142176073\n"
     ]
    },
    {
     "data": {
      "text/plain": [
       "16"
      ]
     },
     "execution_count": 17,
     "metadata": {},
     "output_type": "execute_result"
    }
   ],
   "source": [
    "distancia(\"software engineering\",\"computer science\",len(\"software engineering\"),len(\"computer science\"))"
   ]
  },
  {
   "cell_type": "markdown",
   "metadata": {},
   "source": [
    "6.Implemente su algoritmo en Python, y publiquelo en un NoteBook donde lo pruebe para las cadenas:\n",
    "x = software engineering, y = computer science\n",
    " "
   ]
  },
  {
   "cell_type": "code",
   "execution_count": 24,
   "metadata": {
    "collapsed": false
   },
   "outputs": [],
   "source": [
    "import time\n",
    "def distancia(str1, str2, m, n):\n",
    "    \n",
    "    dp = [[0 for x in range(n+1)] for x in range(m+1)]\n",
    " \n",
    "    for i in range(m+1):\n",
    "        for j in range(n+1):\n",
    "       \n",
    "            if i == 0:\n",
    "                dp[i][j] = j    \n",
    "     \n",
    "            elif j == 0:\n",
    "                dp[i][j] = i    \n",
    "    \n",
    "            elif str1[i-1] == str2[j-1]:\n",
    "                dp[i][j] = dp[i-1][j-1]\n",
    "    \n",
    "            else:\n",
    "                dp[i][j] = 1 + min(dp[i][j-1],        \n",
    "                                   dp[i-1][j],        \n",
    "                                   dp[i-1][j-1])    \n",
    "      \n",
    "    return dp[m][n]\n",
    "    "
   ]
  },
  {
   "cell_type": "code",
   "execution_count": 32,
   "metadata": {
    "collapsed": false
   },
   "outputs": [
    {
     "data": {
      "text/plain": [
       "16"
      ]
     },
     "execution_count": 32,
     "metadata": {},
     "output_type": "execute_result"
    }
   ],
   "source": [
    "cadena1=\"software engineering\"\n",
    "cadena2=\"computer science\"\n",
    "distancia(cadena1,cadena2,len(cadena1),len(cadena2))\n",
    " "
   ]
  },
  {
   "cell_type": "markdown",
   "metadata": {},
   "source": [
    "7.Ejecute su programa para las tres instancias proveidas en 3 archivos de texto plano, donde cada archivo\n",
    "contiene las siguientes cuatro lıneas:\n",
    "(a) El numero de caracteres m en la cadena x.\n",
    "(b) La cadena x\n",
    "(c) El numero de caracteres n en la cadena y.\n",
    "(d) La cadena y\n"
   ]
  },
  {
   "cell_type": "code",
   "execution_count": null,
   "metadata": {
    "collapsed": true
   },
   "outputs": [],
   "source": []
  }
 ],
 "metadata": {
  "anaconda-cloud": {},
  "kernelspec": {
   "display_name": "Python [conda root]",
   "language": "python",
   "name": "conda-root-py"
  },
  "language_info": {
   "codemirror_mode": {
    "name": "ipython",
    "version": 2
   },
   "file_extension": ".py",
   "mimetype": "text/x-python",
   "name": "python",
   "nbconvert_exporter": "python",
   "pygments_lexer": "ipython2",
   "version": "2.7.12"
  }
 },
 "nbformat": 4,
 "nbformat_minor": 1
}
