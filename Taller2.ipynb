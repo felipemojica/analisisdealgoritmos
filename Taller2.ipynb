{
 "cells": [
  {
   "cell_type": "markdown",
   "metadata": {},
   "source": [
    "1.Implemente un algoritmo de multiplicación de matrices en tiempo O(n^3) que calcule cada elemento de la matriz C como c_{ij} = \\sum_{k=1}^n a_{ik}*b_{kj}\n"
   ]
  },
  {
   "cell_type": "code",
   "execution_count": 1,
   "metadata": {
    "collapsed": true
   },
   "outputs": [],
   "source": [
    "import math\n",
    "import numpy as np\n",
    "import pylab as pl\n",
    "%matplotlib inline"
   ]
  },
  {
   "cell_type": "code",
   "execution_count": 3,
   "metadata": {
    "collapsed": true
   },
   "outputs": [],
   "source": [
    "class Counter:\n",
    "    '''\n",
    "    Class Counter\n",
    "    Implements a step counter, which is used to compute the number of basic operations performed in\n",
    "    a particular call to a function.\n",
    "    '''\n",
    "    def __init__(self):\n",
    "        self.steps = 0\n",
    "\n",
    "    def reset(self):\n",
    "        self.steps = 0\n",
    "\n",
    "    def count(self):\n",
    "        self.steps += 1\n",
    "\n",
    "    def print_steps(self):\n",
    "        print \"Number of steps =\", self.steps\n",
    "\n",
    "\n",
    "\n",
    "def mult1(m_1,m_2, p):\n",
    "    m = np.zeros((p,p))\n",
    "    for i in range(p):\n",
    "        for j in range(p):\n",
    "            for k in range(p):\n",
    "                m[i][j] = m[i][j] + (m_1[i][k]*m_2[k][j])\n",
    "    return m"
   ]
  },
  {
   "cell_type": "code",
   "execution_count": 4,
   "metadata": {
    "collapsed": false
   },
   "outputs": [
    {
     "data": {
      "text/plain": [
       "array([[ 173.,  219.,  246.,  380.],\n",
       "       [  46.,   72.,   57.,  101.],\n",
       "       [ 207.,  230.,   87.,  216.],\n",
       "       [ 353.,  348.,  240.,  331.]])"
      ]
     },
     "execution_count": 4,
     "metadata": {},
     "output_type": "execute_result"
    }
   ],
   "source": [
    "x =4\n",
    "mat = np.random.randint(0,20,(x,x))\n",
    "matr = np.random.randint(0,20,(x,x))\n",
    "mult1(mat,matr,x)"
   ]
  },
  {
   "cell_type": "markdown",
   "metadata": {},
   "source": [
    "2.Implemente un algoritmo de multiplicación de matrices basado en una estrategía de multiplicación de matrices en tiempo O(n^3) donde cada matriz es dividida en 4 partes iguales."
   ]
  },
  {
   "cell_type": "code",
   "execution_count": 8,
   "metadata": {
    "collapsed": false
   },
   "outputs": [],
   "source": [
    "def sum(m,n):\n",
    "    t = len(m)\n",
    "    r = np.zeros((len(m),len(n)))\n",
    "    for i in range(t):\n",
    "        for j in range(t):\n",
    "            r[i][j] = m[i][j] + n[i][j]\n",
    "    return r\n",
    "def mxm(m,n): \n",
    "    results = np.zeros((len(m),len(n)))\n",
    "    for i in range(len(m)):\n",
    "           for j in range(len(n[0])):\n",
    "                   for k in range(len(n)):\n",
    "                           results[i][j] += m[i][k] * n[k][j]\n",
    "    return results\n",
    "def mat_MDC(m, n):\n",
    "    flag=0 \n",
    "    if (len(m) <= 2):\n",
    "         return mxm(m,n)\n",
    "    else :\n",
    "        L=len(m)\n",
    "        if(L%2!=0):\n",
    "            x1 = np.zeros((L, 1))\n",
    "            y1 = np.zeros((1, L+1))\n",
    "            m1 = np.c_[m1,x1]\n",
    "            m1 = np.r_[m1,y1]\n",
    "            n1 = np.c_[n1,x1]\n",
    "            n1 = np.r_[n1,y1]\n",
    "            L=L+1    \n",
    "            flag=1 \n",
    "        L= (L)/2\n",
    "        a1=m1[:L,:L]\n",
    "        b1=m1[:L,L:]\n",
    "        c1=m1[L:,:L]\n",
    "        d1=m1[L:,L:]\n",
    "        b2=n[:L,:L]\n",
    "        b3=n[:L,L:]\n",
    "        b4=n[L:,:L]\n",
    "        b5=n[L:,L:]     \n",
    "    a =mat_MDC(a1,b2)\n",
    "    b =mat_MDC(b1,b4)\n",
    "    c =mat_MDC(a1,b3)\n",
    "    d =mat_MDC(a1,b5)\n",
    "    e=mat_MDC(c1,b2)\n",
    "    f =mat_MDC(d1,b4)\n",
    "    g =mat_MDC(c1,b3)\n",
    "    h =mat_MDC(d1,b5)\n",
    "    aa = sum(a,b)\n",
    "    bb = sum(c,d)\n",
    "    cc = sum(e,f)\n",
    "    dd = sum(g,h)\n",
    "    aa = np.c_[aa,bb]\n",
    "    cc = np.c_[cc,dd]\n",
    "    aa = np.r_[aa,cc]\n",
    "    if flag==1:\n",
    "        l=len(aa)\n",
    "        aa = aa[:l-1,:l-1]\n",
    "    return aa"
   ]
  },
  {
   "cell_type": "code",
   "execution_count": 12,
   "metadata": {
    "collapsed": false
   },
   "outputs": [
    {
     "name": "stdout",
     "output_type": "stream",
     "text": [
      "[[ 319.  236.  180.   66.]\n",
      " [ 151.  225.  152.   64.]\n",
      " [ 165.  213.  111.   64.]\n",
      " [ 196.  297.  146.   90.]]\n",
      "\n"
     ]
    }
   ],
   "source": [
    "m= np.random.randint(15, size=(4,4)) \n",
    "n= np.random.randint(15, size=(4,4)) \n",
    "\n",
    "print mxm(m,n)\n",
    "print "
   ]
  },
  {
   "cell_type": "markdown",
   "metadata": {},
   "source": [
    "Implemente el algoritmo de strassen"
   ]
  },
  {
   "cell_type": "code",
   "execution_count": 24,
   "metadata": {
    "collapsed": false
   },
   "outputs": [
    {
     "name": "stderr",
     "output_type": "stream",
     "text": [
      "Usage: __main__.py [options]\n",
      "\n",
      "__main__.py: error: no such option: -f\n"
     ]
    },
    {
     "ename": "SystemExit",
     "evalue": "2",
     "output_type": "error",
     "traceback": [
      "An exception has occurred, use %tb to see the full traceback.\n",
      "\u001b[0;31mSystemExit\u001b[0m\u001b[0;31m:\u001b[0m 2\n"
     ]
    }
   ],
   "source": [
    "from optparse import OptionParser\n",
    "from math import ceil, log\n",
    "\n",
    "\n",
    "\n",
    "\n",
    "def strassenR(A, B):\n",
    "    \n",
    "    n = len(A)\n",
    "\n",
    "    if n <= LEAF_SIZE:\n",
    "        return ikjMatrixProduct(A, B)\n",
    "    else:\n",
    "        \n",
    "        newSize = n/2\n",
    "        a11 = [[0 for j in xrange(0, newSize)] for i in xrange(0, newSize)]\n",
    "        a12 = [[0 for j in xrange(0, newSize)] for i in xrange(0, newSize)]\n",
    "        a21 = [[0 for j in xrange(0, newSize)] for i in xrange(0, newSize)]\n",
    "        a22 = [[0 for j in xrange(0, newSize)] for i in xrange(0, newSize)]\n",
    "\n",
    "        b11 = [[0 for j in xrange(0, newSize)] for i in xrange(0, newSize)]\n",
    "        b12 = [[0 for j in xrange(0, newSize)] for i in xrange(0, newSize)]\n",
    "        b21 = [[0 for j in xrange(0, newSize)] for i in xrange(0, newSize)]\n",
    "        b22 = [[0 for j in xrange(0, newSize)] for i in xrange(0, newSize)]\n",
    "\n",
    "        aResult = [[0 for j in xrange(0, newSize)] for i in xrange(0, newSize)]\n",
    "        bResult = [[0 for j in xrange(0, newSize)] for i in xrange(0, newSize)]\n",
    "\n",
    "       \n",
    "        for i in xrange(0, newSize):\n",
    "            for j in xrange(0, newSize):\n",
    "                a11[i][j] = A[i][j]            \n",
    "                a12[i][j] = A[i][j + newSize]    \n",
    "                a21[i][j] = A[i + newSize][j]    \n",
    "                a22[i][j] = A[i + newSize][j + newSize] \n",
    "\n",
    "                b11[i][j] = B[i][j]            \n",
    "                b12[i][j] = B[i][j + newSize]   \n",
    "                b21[i][j] = B[i + newSize][j]    \n",
    "                b22[i][j] = B[i + newSize][j + newSize] \n",
    "\n",
    "        \n",
    "        aResult = add(a11, a22)\n",
    "        bResult = add(b11, b22)\n",
    "        p1 = strassenR(aResult, bResult) \n",
    "\n",
    "        aResult = add(a21, a22)      \n",
    "        p2 = strassenR(aResult, b11)  \n",
    "\n",
    "        bResult = subtract(b12, b22) \n",
    "        p3 = strassenR(a11, bResult) \n",
    "\n",
    "        bResult = subtract(b21, b11) \n",
    "        p4 =strassenR(a22, bResult)   \n",
    "\n",
    "        aResult = add(a11, a12)     \n",
    "        p5 = strassenR(aResult, b22)    \n",
    "\n",
    "        aResult = subtract(a21, a11) \n",
    "        bResult = add(b11, b12)     \n",
    "        p6 = strassenR(aResult, bResult) \n",
    "\n",
    "        aResult = subtract(a12, a22) \n",
    "        bResult = add(b21, b22)      \n",
    "        p7 = strassenR(aResult, bResult) \n",
    "\n",
    "        c12 = add(p3, p5)\n",
    "        c21 = add(p2, p4)  \n",
    "\n",
    "        aResult = add(p1, p4) \n",
    "        bResult = add(aResult, p7) \n",
    "        c11 = subtract(bResult, p5) \n",
    "\n",
    "        aResult = add(p1, p3)\n",
    "        bResult = add(aResult, p6) \n",
    "        c22 = subtract(bResult, p2) \n",
    "\n",
    "      \n",
    "        C = [[0 for j in xrange(0, n)] for i in xrange(0, n)]\n",
    "        for i in xrange(0, newSize):\n",
    "            for j in xrange(0, newSize):\n",
    "                C[i][j] = c11[i][j]\n",
    "                C[i][j + newSize] = c12[i][j]\n",
    "                C[i + newSize][j] = c21[i][j]\n",
    "                C[i + newSize][j + newSize] = c22[i][j]\n",
    "        return C\n",
    "\n",
    "if __name__ == \"__main__\":\n",
    "    parser = OptionParser()\n",
    "    parser.add_option(\"-i\", dest=\"filename\", default=\"2000.in\",\n",
    "         help=\"input file with two matrices\", metavar=\"FILE\")\n",
    "    parser.add_option(\"-l\", dest=\"LEAF_SIZE\", default=\"8\",\n",
    "         help=\"when do you start using ikj\", metavar=\"LEAF_SIZE\")\n",
    "    (options, args) = parser.parse_args()\n",
    "\n",
    "    LEAF_SIZE = options.LEAF_SIZE\n",
    "    A, B = read(options.filename)\n",
    "# tomado de https://martin-thoma.com/strassen-algorithm-in-python-java-cpp/#python"
   ]
  },
  {
   "cell_type": "code",
   "execution_count": 26,
   "metadata": {
    "collapsed": false
   },
   "outputs": [
    {
     "ename": "NameError",
     "evalue": "global name 'LEAF_SIZE' is not defined",
     "output_type": "error",
     "traceback": [
      "\u001b[0;31m---------------------------------------------------------------------------\u001b[0m",
      "\u001b[0;31mNameError\u001b[0m                                 Traceback (most recent call last)",
      "\u001b[0;32m<ipython-input-26-cfc2828cdb35>\u001b[0m in \u001b[0;36m<module>\u001b[0;34m()\u001b[0m\n\u001b[1;32m      2\u001b[0m \u001b[0mB\u001b[0m \u001b[1;33m=\u001b[0m \u001b[0mnp\u001b[0m\u001b[1;33m.\u001b[0m\u001b[0mrandom\u001b[0m\u001b[1;33m.\u001b[0m\u001b[0mrandint\u001b[0m\u001b[1;33m(\u001b[0m\u001b[1;36m10\u001b[0m\u001b[1;33m,\u001b[0m \u001b[0msize\u001b[0m\u001b[1;33m=\u001b[0m\u001b[1;33m(\u001b[0m\u001b[1;36m3\u001b[0m\u001b[1;33m,\u001b[0m \u001b[1;36m3\u001b[0m\u001b[1;33m)\u001b[0m\u001b[1;33m)\u001b[0m\u001b[1;33m\u001b[0m\u001b[0m\n\u001b[1;32m      3\u001b[0m \u001b[1;33m\u001b[0m\u001b[0m\n\u001b[0;32m----> 4\u001b[0;31m \u001b[0mC\u001b[0m \u001b[1;33m=\u001b[0m \u001b[0mstrassenR\u001b[0m\u001b[1;33m(\u001b[0m\u001b[0mA\u001b[0m\u001b[1;33m,\u001b[0m\u001b[0mB\u001b[0m\u001b[1;33m)\u001b[0m\u001b[1;33m\u001b[0m\u001b[0m\n\u001b[0m",
      "\u001b[0;32m<ipython-input-25-b14abb51901e>\u001b[0m in \u001b[0;36mstrassenR\u001b[0;34m(A, B)\u001b[0m\n\u001b[1;32m     52\u001b[0m     \u001b[0mn\u001b[0m \u001b[1;33m=\u001b[0m \u001b[0mlen\u001b[0m\u001b[1;33m(\u001b[0m\u001b[0mA\u001b[0m\u001b[1;33m)\u001b[0m\u001b[1;33m\u001b[0m\u001b[0m\n\u001b[1;32m     53\u001b[0m \u001b[1;33m\u001b[0m\u001b[0m\n\u001b[0;32m---> 54\u001b[0;31m     \u001b[1;32mif\u001b[0m \u001b[0mn\u001b[0m \u001b[1;33m<=\u001b[0m \u001b[0mLEAF_SIZE\u001b[0m\u001b[1;33m:\u001b[0m\u001b[1;33m\u001b[0m\u001b[0m\n\u001b[0m\u001b[1;32m     55\u001b[0m         \u001b[1;32mreturn\u001b[0m \u001b[0mikjMatrixProduct\u001b[0m\u001b[1;33m(\u001b[0m\u001b[0mA\u001b[0m\u001b[1;33m,\u001b[0m \u001b[0mB\u001b[0m\u001b[1;33m)\u001b[0m\u001b[1;33m\u001b[0m\u001b[0m\n\u001b[1;32m     56\u001b[0m     \u001b[1;32melse\u001b[0m\u001b[1;33m:\u001b[0m\u001b[1;33m\u001b[0m\u001b[0m\n",
      "\u001b[0;31mNameError\u001b[0m: global name 'LEAF_SIZE' is not defined"
     ]
    }
   ],
   "source": [
    "A = np.random.randint(10, size=(3, 3))\n",
    "B = np.random.randint(10, size=(3, 3))\n",
    "\n",
    "C = strassenR(A,B)"
   ]
  },
  {
   "cell_type": "code",
   "execution_count": null,
   "metadata": {
    "collapsed": true
   },
   "outputs": [],
   "source": []
  }
 ],
 "metadata": {
  "kernelspec": {
   "display_name": "Python 2",
   "language": "python",
   "name": "python2"
  },
  "language_info": {
   "codemirror_mode": {
    "name": "ipython",
    "version": 2
   },
   "file_extension": ".py",
   "mimetype": "text/x-python",
   "name": "python",
   "nbconvert_exporter": "python",
   "pygments_lexer": "ipython2",
   "version": "2.7.13"
  }
 },
 "nbformat": 4,
 "nbformat_minor": 2
}
