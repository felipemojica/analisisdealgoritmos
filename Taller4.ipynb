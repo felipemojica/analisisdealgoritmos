{
 "cells": [
  {
   "cell_type": "markdown",
   "metadata": {},
   "source": [
    "# <h1>Taller 4</h1>"
   ]
  },
  {
   "cell_type": "markdown",
   "metadata": {},
   "source": [
    "1. Implemente un método que retorne la subsecuencia común más larga (SCL) apartir de la matriz C construida por el algoritmo de PD que calcula la longitud de la SCL."
   ]
  },
  {
   "cell_type": "code",
   "execution_count": 28,
   "metadata": {
    "collapsed": true
   },
   "outputs": [],
   "source": [
    "import math\n",
    "import numpy as np\n",
    "import pylab as pl\n",
    "import random as rnd\n",
    "%matplotlib inline"
   ]
  },
  {
   "cell_type": "code",
   "execution_count": 29,
   "metadata": {
    "collapsed": false
   },
   "outputs": [],
   "source": [
    "def SCL(X , Y):\n",
    "   \n",
    "    q = len(X)\n",
    "    w = len(Y)\n",
    "    t = [[None]*(w+1) for i in xrange(q+1)]\n",
    " \n",
    "    for i in range(q+1):\n",
    "        for j in range(w+1):\n",
    "            if i == 0 or j == 0 :\n",
    "                t[i][j] = 0\n",
    "            elif X[i-1] == Y[j-1]:\n",
    "                t[i][j] = t[i-1][j-1]+1\n",
    "            else:\n",
    "                t[i][j] = max(t[i-1][j] , t[i][j-1])\n",
    "    return t[q][w]\n"
   ]
  },
  {
   "cell_type": "code",
   "execution_count": 30,
   "metadata": {
    "collapsed": false
   },
   "outputs": [
    {
     "name": "stdout",
     "output_type": "stream",
     "text": [
      "2\n"
     ]
    }
   ],
   "source": [
    "X = \"ingenieria\"\n",
    "Y = \"diseño\"\n",
    "print SCL(X, Y)"
   ]
  },
  {
   "cell_type": "markdown",
   "metadata": {
    "collapsed": false
   },
   "source": [
    "2. a) Implemente un método para determinar los cortes que se deben realizar a partir de la solución de PD que encuentra el valor de la solución óptima."
   ]
  },
  {
   "cell_type": "code",
   "execution_count": 31,
   "metadata": {
    "collapsed": false
   },
   "outputs": [
    {
     "name": "stdout",
     "output_type": "stream",
     "text": [
      "(24, [4, 4])\n"
     ]
    }
   ],
   "source": [
    "import copy\n",
    "\n",
    "maxp= {}\n",
    "\n",
    "def cut_rod(n,p):\n",
    "    if n==0:\n",
    "        return 0,[]\n",
    "    q=-999\n",
    "   \n",
    "    if n in maxp.keys():\n",
    "        return maxp[n][0],copy.copy(maxp[n][1])\n",
    "    c = []\n",
    "    for i in range(1,n+1): \n",
    "            \n",
    "        sv,sc =  cut_rod(n-i,p)\n",
    "            \n",
    "        if sv + p[i] > q:\n",
    "            sc.append(i)\n",
    "            c = sc\n",
    "            q = sv + p[i]\n",
    "   \n",
    "    maxp[n] = (q,copy.copy(c))\n",
    "    \n",
    "    return q,c\n",
    "\n",
    "p={1:1,2:5,3:8,4:12,5:10,6:1,7:1,8:23,9:24,10:30}\n",
    "sol = cut_rod(8,p)\n",
    "print sol"
   ]
  },
  {
   "cell_type": "markdown",
   "metadata": {
    "collapsed": true
   },
   "source": [
    "b) Realice una comparación experimental sistemática de los algoritmos para diferentes valores  de p y de n."
   ]
  },
  {
   "cell_type": "code",
   "execution_count": 32,
   "metadata": {
    "collapsed": true
   },
   "outputs": [],
   "source": [
    "import numpy as np\n",
    "\n",
    "global C\n",
    "\n",
    "def lcs(X,Y):\n",
    "    global C\n",
    "    C = np.ones((len(X)+1,len(Y)+1))*-1\n",
    "    lcs3(X,Y,len(X),len(Y))\n",
    "    return C[len(X)-1,len(Y)-1], C\n",
    "    \n",
    "def lcs2(x,y,i,j):\n",
    "    if i == 0 or j == 0:\n",
    "        return 0\n",
    "    if x[i-1]==y[j-1]:\n",
    "        return lcs2(x,y,i-1,j-1)+1\n",
    "    else:\n",
    "        return max(lcs2(x,y,i-1,j),lcs2(x,y,i,j-1))\n",
    "    \n",
    "def lcs3(x,y,i,j):\n",
    "    global C\n",
    "    if C[i,j] == -1:\n",
    "        if i == 0 or j == 0:\n",
    "            C[i,j] = 0\n",
    "        else:\n",
    "            if x[i-1]==y[j-1]:\n",
    "                C[i,j] = lcs3(x,y,i-1,j-1)+1\n",
    "            else:\n",
    "                C[i,j] = max(lcs3(x,y,i-1,j),lcs3(x,y,i,j-1))\n",
    "                \n",
    "    return C[i,j]"
   ]
  },
  {
   "cell_type": "code",
   "execution_count": 61,
   "metadata": {
    "collapsed": false
   },
   "outputs": [],
   "source": [
    "import time\n",
    "class Counter:\n",
    "    '''\n",
    "    Class Counter\n",
    "    Implements a step counter, which is used to compute the number of basic operations performed in\n",
    "    a particular call to a function.\n",
    "    '''\n",
    "    def __init__(self):\n",
    "        self.steps = 0\n",
    "\n",
    "    def reset(self):\n",
    "        self.steps = 0\n",
    "\n",
    "    def count(self):\n",
    "        self.steps += 1\n",
    "\n",
    "    def print_steps(self):\n",
    "        print \"Number of steps =\", self.steps\n",
    "\n",
    "\n",
    "def time_analysis(n):\n",
    "    results = []\n",
    "    acct = Counter()\n",
    "    for i in range(n):\n",
    "        l = range(i)\n",
    "        rnd.shuffle(l)\n",
    "        tic = time.clock()#get start time\n",
    "        lcs('ingenieria','diseño')\n",
    "        toc = time.clock()#get final time\n",
    "        results.append((toc-tic)*10000000)\n",
    "    return  results\n",
    "\n",
    "def time_analysis2(n):\n",
    "    results = []\n",
    "    acct = Counter()\n",
    "    for i in range(n):\n",
    "        l = range(i)\n",
    "        rnd.shuffle(l)\n",
    "        tic = time.clock()#get start time\n",
    "        lcs2('ingenieria','diseño',3,5)\n",
    "        toc = time.clock()#get final time\n",
    "        results.append((toc-tic)*1000)\n",
    "    return  results\n",
    "\n",
    "def time_analysis3(n):\n",
    "    results = []\n",
    "    acct = Counter()\n",
    "    for i in range(n):\n",
    "        l = range(i)\n",
    "        rnd.shuffle(l)\n",
    "        tic = time.clock()#get start time\n",
    "        lcs3('ingenieria','diseño',3,5)\n",
    "        toc = time.clock()#get final time\n",
    "        results.append((toc-tic)*100000)\n",
    "    return  results"
   ]
  },
  {
   "cell_type": "code",
   "execution_count": 62,
   "metadata": {
    "collapsed": false
   },
   "outputs": [
    {
     "data": {
      "text/plain": [
       "[<matplotlib.lines.Line2D at 0xa3a36d8>]"
      ]
     },
     "execution_count": 62,
     "metadata": {},
     "output_type": "execute_result"
    },
    {
     "data": {
      "image/png": "[encoded data removed]",
      "text/plain": [
       "<matplotlib.figure.Figure at 0xacc1d30>"
      ]
     },
     "metadata": {},
     "output_type": "display_data"
    }
   ],
   "source": [
    "pl.clf()\n",
    "x = np.arange(100)\n",
    "y = np.array(time_analysis(100))\n",
    "pl.plot(x, y, 'k.', color ='r')\n",
    "\n"
   ]
  },
  {
   "cell_type": "code",
   "execution_count": 63,
   "metadata": {
    "collapsed": false
   },
   "outputs": [
    {
     "data": {
      "text/plain": [
       "[<matplotlib.lines.Line2D at 0x9b35a20>]"
      ]
     },
     "execution_count": 63,
     "metadata": {},
     "output_type": "execute_result"
    },
    {
     "data": {
      "image/png": "[encoded data removed]",
      "text/plain": [
       "<matplotlib.figure.Figure at 0x9679e48>"
      ]
     },
     "metadata": {},
     "output_type": "display_data"
    }
   ],
   "source": [
    "pl.clf()\n",
    "x = np.arange(100)\n",
    "z = np.array(time_analysis2(100))\n",
    "pl.plot(x, y, 'k.', color ='c')"
   ]
  },
  {
   "cell_type": "code",
   "execution_count": 64,
   "metadata": {
    "collapsed": false
   },
   "outputs": [
    {
     "data": {
      "text/plain": [
       "[<matplotlib.lines.Line2D at 0xafee080>]"
      ]
     },
     "execution_count": 64,
     "metadata": {},
     "output_type": "execute_result"
    },
    {
     "data": {
      "image/png": "[encoded data removed]",
      "text/plain": [
       "<matplotlib.figure.Figure at 0x9ae0390>"
      ]
     },
     "metadata": {},
     "output_type": "display_data"
    }
   ],
   "source": [
    "pl.clf()\n",
    "x = np.arange(100)\n",
    "w = np.array(time_analysis3(100))\n",
    "pl.plot(x, y, 'k.', color ='g')"
   ]
  },
  {
   "cell_type": "markdown",
   "metadata": {},
   "source": [
    "4.En el rio atrato hay n embarcaderos, en cada uno de ellos se puede alquilar un bote para realizar un viaje rio abajo a otro embarcadero. Existe una tabla de tarifas que indica el costo del viaje del embarcadero i al j, para i, j = 1,2,...,n  (i<j), puede pasar que un viaje de i a j sea más caro que una serie de viajes sucesivos intermedios, no hay un costo asociado a cambiar de bote en algún embarcadero. El problema consiste en diseñar un algoritmo de PD que determine el costo mínimo para cada par de puntos i,j."
   ]
  },
  {
   "cell_type": "code",
   "execution_count": 65,
   "metadata": {
    "collapsed": false
   },
   "outputs": [
    {
     "name": "stdout",
     "output_type": "stream",
     "text": [
      "8\n"
     ]
    }
   ],
   "source": [
    "R = 3\n",
    "C = 3\n",
    " \n",
    "def minCost(cost, m, n):\n",
    " \n",
    "    tc = [[0 for x in range(C)] for x in range(R)]\n",
    "    tc[0][0] = cost[0][0]\n",
    " \n",
    "    for i in range(1, m+1):\n",
    "        tc[i][0] = tc[i-1][0] + cost[i][0]\n",
    "    y\n",
    "    for j in range(1, n+1):\n",
    "        tc[0][j] = tc[0][j-1] + cost[0][j]\n",
    "  \n",
    "    for i in range(1, m+1):\n",
    "        for j in range(1, n+1):\n",
    "            tc[i][j] = min(tc[i-1][j-1], tc[i-1][j], tc[i][j-1]) + cost[i][j]\n",
    " \n",
    "    return tc[m][n]\n",
    " \n",
    "\n",
    "cost = [[1, 2, 3],\n",
    "        [4, 8, 2],\n",
    "        [1, 5, 3]]\n",
    "print(minCost(cost, 2, 2))\n",
    " \n",
    "# Tomado de http://www.geeksforgeeks.org/dynamic-programming-set-6-min-cost-path/"
   ]
  },
  {
   "cell_type": "code",
   "execution_count": null,
   "metadata": {
    "collapsed": true
   },
   "outputs": [],
   "source": []
  }
 ],
 "metadata": {
  "kernelspec": {
   "display_name": "Python 2",
   "language": "python",
   "name": "python2"
  },
  "language_info": {
   "codemirror_mode": {
    "name": "ipython",
    "version": 2
   },
   "file_extension": ".py",
   "mimetype": "text/x-python",
   "name": "python",
   "nbconvert_exporter": "python",
   "pygments_lexer": "ipython2",
   "version": "2.7.13"
  }
 },
 "nbformat": 4,
 "nbformat_minor": 2
}
